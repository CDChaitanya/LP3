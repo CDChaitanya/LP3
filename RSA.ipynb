{
 "cells": [
  {
   "cell_type": "code",
   "execution_count": 66,
   "id": "3a58d2fc",
   "metadata": {},
   "outputs": [],
   "source": [
    "def isPrime(n):\n",
    "    if(n == 1):\n",
    "        return False\n",
    "    if(n == 2 or n == 3):\n",
    "        return True\n",
    "    if(n%2 == 0 or n%3 == 0):\n",
    "        return False\n",
    "    i = 5\n",
    "    while(i*i) <= n:\n",
    "        if(n%i == 0 or (n%(i+2) == 0)):\n",
    "            return False\n",
    "        i += 6\n",
    "    return True"
   ]
  },
  {
   "cell_type": "code",
   "execution_count": 67,
   "id": "6a60f030",
   "metadata": {},
   "outputs": [],
   "source": [
    "def gcd(a,b):\n",
    "    if(b == 0):\n",
    "        return a\n",
    "    else:\n",
    "        return gcd(b , a%b)"
   ]
  },
  {
   "cell_type": "code",
   "execution_count": 68,
   "id": "ee9e3ff3",
   "metadata": {},
   "outputs": [
    {
     "name": "stdout",
     "output_type": "stream",
     "text": [
      "Enter a prime no. p23\n",
      "Enter a prime no. q17\n"
     ]
    }
   ],
   "source": [
    "from random import randint\n",
    "\n",
    "p = int(input('Enter a prime no. p'))\n",
    "while not isPrime(p):\n",
    "    p = int(input('Enter a prime no. p'))\n",
    "q = int(input('Enter a prime no. q'))\n",
    "while not isPrime(q):\n",
    "    q = int(input('Enter a prime no. q'))\n",
    "\n",
    "n = p*q\n",
    "phi = (p-1)*(q-1)\n",
    "while True:\n",
    "    e = randint(1 , phi)\n",
    "    if gcd(e,phi) == 1:\n",
    "        break\n",
    "\n",
    "for i in range(100):\n",
    "    d = (phi * i)+1\n",
    "    if(d%e == 0):\n",
    "        d = int(d/e)\n",
    "        break\n",
    "        \n",
    "public_key = (e , n)\n",
    "private_key = (d , n)"
   ]
  },
  {
   "cell_type": "code",
   "execution_count": 69,
   "id": "b562e5ac",
   "metadata": {},
   "outputs": [
    {
     "data": {
      "text/plain": [
       "126"
      ]
     },
     "execution_count": 69,
     "metadata": {},
     "output_type": "execute_result"
    }
   ],
   "source": [
    "def encryption(m , public_key):\n",
    "    e , n = public_key\n",
    "    c = (m**e) % n\n",
    "    return c\n",
    "\n",
    "c = encryption(ord('A') , public_key)\n",
    "c"
   ]
  },
  {
   "cell_type": "code",
   "execution_count": 70,
   "id": "deb162f2",
   "metadata": {},
   "outputs": [
    {
     "data": {
      "text/plain": [
       "'A'"
      ]
     },
     "execution_count": 70,
     "metadata": {},
     "output_type": "execute_result"
    }
   ],
   "source": [
    "def decryption(c , private_key):\n",
    "    d , n = private_key\n",
    "    d = (c**d) % n\n",
    "    return d\n",
    "\n",
    "p = decryption(c , private_key)\n",
    "chr(p)"
   ]
  },
  {
   "cell_type": "code",
   "execution_count": 71,
   "id": "8a0011bc",
   "metadata": {},
   "outputs": [
    {
     "name": "stdout",
     "output_type": "stream",
     "text": [
      "Enter a text message: lulu\n"
     ]
    },
    {
     "data": {
      "text/plain": [
       "'\\x1d\\t\\x1d\\t'"
      ]
     },
     "execution_count": 71,
     "metadata": {},
     "output_type": "execute_result"
    }
   ],
   "source": [
    "M =  input('Enter a text message: ')\n",
    "cipher_text = ''\n",
    "for character in M:\n",
    "    cipher_text += chr(encryption(ord(character) , public_key))\n",
    "    \n",
    "cipher_text"
   ]
  },
  {
   "cell_type": "code",
   "execution_count": 72,
   "id": "01cee6e2",
   "metadata": {},
   "outputs": [
    {
     "data": {
      "text/plain": [
       "'lulu'"
      ]
     },
     "execution_count": 72,
     "metadata": {},
     "output_type": "execute_result"
    }
   ],
   "source": [
    "decrypted_text = ''\n",
    "for character in cipher_text:\n",
    "    decrypted_text += chr(decryption(ord(character) , private_key))\n",
    "\n",
    "decrypted_text"
   ]
  },
  {
   "cell_type": "code",
   "execution_count": null,
   "id": "9083d155",
   "metadata": {},
   "outputs": [],
   "source": []
  }
 ],
 "metadata": {
  "kernelspec": {
   "display_name": "Python 3",
   "language": "python",
   "name": "python3"
  },
  "language_info": {
   "codemirror_mode": {
    "name": "ipython",
    "version": 3
   },
   "file_extension": ".py",
   "mimetype": "text/x-python",
   "name": "python",
   "nbconvert_exporter": "python",
   "pygments_lexer": "ipython3",
   "version": "3.8.3"
  }
 },
 "nbformat": 4,
 "nbformat_minor": 5
}
