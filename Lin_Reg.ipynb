{
 "cells": [
  {
   "cell_type": "code",
   "execution_count": 8,
   "id": "5920e410",
   "metadata": {},
   "outputs": [],
   "source": [
    "import matplotlib.pyplot as plt \n",
    "import numpy as np"
   ]
  },
  {
   "cell_type": "code",
   "execution_count": 9,
   "id": "09f78985",
   "metadata": {},
   "outputs": [],
   "source": [
    "def lin_reg(points):\n",
    "    n = len(points)\n",
    "    x = [point[0] for point in points]\n",
    "    y = [point[1] for point in points]\n",
    "    \n",
    "    xx = [point[0]*point[0] for point in points]\n",
    "    xy = [point[0]*point[1] for point in points]\n",
    "    \n",
    "    x_sum = np.sum(x)\n",
    "    x_mean = x_sum / n\n",
    "    \n",
    "    y_sum = np.sum(y)\n",
    "    y_mean = y_sum / n\n",
    "    \n",
    "    xx_sum = np.sum(xx)\n",
    "    xy_sum = np.sum(xy)\n",
    "    \n",
    "    slope = (xy_sum - n * x_mean * y_mean) / (xx_sum - n * x_mean * x_mean)\n",
    "    intercept = y_mean - x_mean * slope \n",
    "    return slope , intercept"
   ]
  },
  {
   "cell_type": "code",
   "execution_count": 10,
   "id": "b960ae8d",
   "metadata": {},
   "outputs": [
    {
     "name": "stdout",
     "output_type": "stream",
     "text": [
      "LINE EQUATION: y = 4.59 * x + 12.58\n",
      "[58.46361406377759, 53.87571545380212, 21.760425183973833, 81.40310711365495, 58.46361406377759, 85.99100572363042, 63.05151267375307, 85.99100572363042]\n"
     ]
    },
    {
     "data": {
      "image/png": "[encoded data removed]",
      "text/plain": [
       "<Figure size 432x288 with 1 Axes>"
      ]
     },
     "metadata": {
      "needs_background": "light"
     },
     "output_type": "display_data"
    }
   ],
   "source": [
    "datapoints=[\n",
    "    (10,95),\n",
    "    (9,80),\n",
    "    (2,10),\n",
    "    (15,50),\n",
    "    (10,45),\n",
    "    (16,98),\n",
    "    (11,38),\n",
    "    (16,93)\n",
    "]\n",
    "\n",
    "slope,intercept=lin_reg(datapoints)\n",
    "print(f'LINE EQUATION: y = {round(slope,2)} * x + {round(intercept,2)}')\n",
    "\n",
    "x=[d[0] for d in datapoints]\n",
    "y=[d[1] for d in datapoints]\n",
    "\n",
    "\n",
    "y_pred=[]\n",
    "for point in datapoints:\n",
    "    xp=point[0]\n",
    "    y_pred.append(slope*xp+intercept)\n",
    "\n",
    "print(y_pred)\n",
    "\n",
    "plt.scatter(x,y)\n",
    "plt.plot(x,y_pred,color=\"green\")\n",
    "plt.show()"
   ]
  },
  {
   "cell_type": "code",
   "execution_count": 12,
   "id": "43e4df0c",
   "metadata": {},
   "outputs": [
    {
     "data": {
      "text/plain": [
       "22.759716640449565"
      ]
     },
     "execution_count": 12,
     "metadata": {},
     "output_type": "execute_result"
    }
   ],
   "source": [
    "from math import sqrt\n",
    "sum_err = 0.0\n",
    "for i in range(len(y)):\n",
    "    pred_err = y_pred[i] - y[i]\n",
    "    sum_err += pred_err**2\n",
    "    mean_err = sum_err / float(len(y))\n",
    "sqrt(mean_err)"
   ]
  },
  {
   "cell_type": "code",
   "execution_count": null,
   "id": "a2d89b54",
   "metadata": {},
   "outputs": [],
   "source": []
  }
 ],
 "metadata": {
  "kernelspec": {
   "display_name": "Python 3",
   "language": "python",
   "name": "python3"
  },
  "language_info": {
   "codemirror_mode": {
    "name": "ipython",
    "version": 3
   },
   "file_extension": ".py",
   "mimetype": "text/x-python",
   "name": "python",
   "nbconvert_exporter": "python",
   "pygments_lexer": "ipython3",
   "version": "3.8.3"
  }
 },
 "nbformat": 4,
 "nbformat_minor": 5
}
