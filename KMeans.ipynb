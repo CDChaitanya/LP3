{
 "cells": [
  {
   "cell_type": "code",
   "execution_count": 1,
   "id": "c097968a",
   "metadata": {},
   "outputs": [],
   "source": [
    "import math\n",
    "import matplotlib.pyplot as plt"
   ]
  },
  {
   "cell_type": "code",
   "execution_count": 2,
   "id": "2bcac352",
   "metadata": {},
   "outputs": [],
   "source": [
    "def manhattan_distance(x1,y1,x2,y2):\n",
    "    return math.fabs(x1-x2) + math.fabs(y1-y2)"
   ]
  },
  {
   "cell_type": "code",
   "execution_count": 3,
   "id": "6dfe01ae",
   "metadata": {},
   "outputs": [],
   "source": [
    "def assignLabels(datapoints, centroids, labels):\n",
    "    x1c = centroids[0][0]\n",
    "    y1c = centroids[0][1]\n",
    "    \n",
    "    x2c = centroids[1][0]\n",
    "    y2c = centroids[1][1]\n",
    "    \n",
    "    idx = 0\n",
    "    for points in datapoints:\n",
    "        x = points[0]\n",
    "        y = points[1]\n",
    "        \n",
    "        dist1 = manhattan_distance(x,y,x1c,y1c)\n",
    "        dist2 = manhattan_distance(x,y,x2c,y2c)\n",
    "        \n",
    "        if(dist1 <= dist2):\n",
    "            labels[idx] = 1\n",
    "        else:\n",
    "            labels[idx] = 2\n",
    "        \n",
    "        idx+=1;\n",
    "    return "
   ]
  },
  {
   "cell_type": "code",
   "execution_count": 4,
   "id": "7fe0ae47",
   "metadata": {},
   "outputs": [],
   "source": [
    "def getNewCentroids(datapoints , labels):\n",
    "    len1 = 0\n",
    "    len2 = 0\n",
    "    \n",
    "    x1_sum = 0\n",
    "    y1_sum = 0\n",
    "    \n",
    "    x2_sum = 0\n",
    "    y2_sum = 0\n",
    "    \n",
    "    idx = 0\n",
    "    for points in datapoints:\n",
    "        x = points[0]\n",
    "        y = points[1]\n",
    "        \n",
    "        if(labels[idx] == 1):\n",
    "            len1 += 1\n",
    "            x1_sum += x\n",
    "            y1_sum += y\n",
    "        else:\n",
    "            len2 += 1\n",
    "            x2_sum += x\n",
    "            y2_sum += y\n",
    "        \n",
    "        idx += 1\n",
    "        \n",
    "    new_x1c = x1_sum / len1\n",
    "    new_y1c = y1_sum / len1\n",
    "    \n",
    "    new_x2c = x2_sum / len2\n",
    "    new_y2c = y2_sum / len2\n",
    "    \n",
    "    new_c1 = (new_x1c , new_y1c)\n",
    "    new_c2 = (new_x2c , new_y2c)\n",
    "    \n",
    "    return (new_c1 , new_c2)"
   ]
  },
  {
   "cell_type": "code",
   "execution_count": 5,
   "id": "141c4887",
   "metadata": {},
   "outputs": [],
   "source": [
    "def KMeans(datapoints , centroids , old_labels , labels):\n",
    "    while labels != old_labels:\n",
    "        old_labels = labels.copy()\n",
    "        \n",
    "        assignLabels(datapoints , centroids , labels)\n",
    "        print(\"After assigning labels\",labels)\n",
    "        \n",
    "        new_centroids = getNewCentroids(datapoints , labels)\n",
    "        centroids[0] = new_centroids[0]\n",
    "        centroids[1] = new_centroids[1]\n",
    "        print(\"Updated Centroids:\",centroids)\n",
    "\n",
    "        print(\"Old labels\",old_labels)\n",
    "        print(\"Labels\",labels)\n",
    "    return centroids"
   ]
  },
  {
   "cell_type": "code",
   "execution_count": 6,
   "id": "9db8832b",
   "metadata": {},
   "outputs": [
    {
     "name": "stdout",
     "output_type": "stream",
     "text": [
      "After assigning labels [1, 1, 1, 1, 2, 1, 2, 2]\n",
      "Updated Centroids: [(0.148, 0.712), (0.24666666666666667, 0.20000000000000004)]\n",
      "Old labels [0, 0, 0, 0, 0, 0, 0, 0]\n",
      "Labels [1, 1, 1, 1, 2, 1, 2, 2]\n",
      "After assigning labels [1, 1, 1, 1, 2, 2, 2, 2]\n",
      "Updated Centroids: [(0.1225, 0.765), (0.2475, 0.275)]\n",
      "Old labels [1, 1, 1, 1, 2, 1, 2, 2]\n",
      "Labels [1, 1, 1, 1, 2, 2, 2, 2]\n",
      "After assigning labels [1, 1, 1, 1, 2, 2, 2, 2]\n",
      "Updated Centroids: [(0.1225, 0.765), (0.2475, 0.275)]\n",
      "Old labels [1, 1, 1, 1, 2, 2, 2, 2]\n",
      "Labels [1, 1, 1, 1, 2, 2, 2, 2]\n"
     ]
    },
    {
     "data": {
      "image/png": "[encoded data removed]",
      "text/plain": [
       "<Figure size 432x288 with 1 Axes>"
      ]
     },
     "metadata": {
      "needs_background": "light"
     },
     "output_type": "display_data"
    }
   ],
   "source": [
    "datapoints = [\n",
    "  (0.1,0.6),\n",
    "  (0.15,0.71),\n",
    "  (0.08,0.9),\n",
    "  (0.16, 0.85),\n",
    "  (0.2,0.3),\n",
    "  (0.25,0.5),\n",
    "  (0.24,0.1),\n",
    "  (0.3,0.2)\n",
    "]\n",
    "\n",
    "centroids = [\n",
    "  (0.1,0.6),\n",
    "  (0.3,0.2)\n",
    "]\n",
    "\n",
    "labels = [0]*8\n",
    "old_labels = [-1]*8\n",
    "\n",
    "new_centroids = KMeans(datapoints , centroids , old_labels , labels)\n",
    "\n",
    "x = [d[0] for d in datapoints]\n",
    "y = [d[1] for d in datapoints]\n",
    "\n",
    "xc = [c[0] for c in new_centroids]\n",
    "yc = [c[1] for c in new_centroids]\n",
    "\n",
    "plt.scatter(x,y)\n",
    "plt.scatter(xc,yc,color=\"red\")\n",
    "plt.show()"
   ]
  },
  {
   "cell_type": "code",
   "execution_count": null,
   "id": "50ed5cc8",
   "metadata": {},
   "outputs": [],
   "source": []
  }
 ],
 "metadata": {
  "kernelspec": {
   "display_name": "Python 3",
   "language": "python",
   "name": "python3"
  },
  "language_info": {
   "codemirror_mode": {
    "name": "ipython",
    "version": 3
   },
   "file_extension": ".py",
   "mimetype": "text/x-python",
   "name": "python",
   "nbconvert_exporter": "python",
   "pygments_lexer": "ipython3",
   "version": "3.8.3"
  }
 },
 "nbformat": 4,
 "nbformat_minor": 5
}
