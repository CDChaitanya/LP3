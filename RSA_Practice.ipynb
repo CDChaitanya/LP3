{
 "cells": [
  {
   "cell_type": "code",
   "execution_count": 23,
   "id": "5de9d55d",
   "metadata": {},
   "outputs": [],
   "source": [
    "from random import randint"
   ]
  },
  {
   "cell_type": "code",
   "execution_count": 24,
   "id": "df0ed97c",
   "metadata": {},
   "outputs": [],
   "source": [
    "def isPrime(n):\n",
    "    if(n == 1):\n",
    "        return False\n",
    "    if( n== 2 or n== 3):\n",
    "        return True\n",
    "    if(n%2 == 0 or n%3 == 0):\n",
    "        return False\n",
    "    i = 5\n",
    "    while i*i <= n:\n",
    "        if(n%i == 0 or (n%(i+2)) == 0):\n",
    "            return False\n",
    "        i += 6\n",
    "    return True"
   ]
  },
  {
   "cell_type": "code",
   "execution_count": 25,
   "id": "f296fedd",
   "metadata": {},
   "outputs": [],
   "source": [
    "def gcd(a , b):\n",
    "    if(b==0):\n",
    "        return a\n",
    "    else:\n",
    "        return gcd(b , a%b)"
   ]
  },
  {
   "cell_type": "code",
   "execution_count": 27,
   "id": "869c2edc",
   "metadata": {},
   "outputs": [
    {
     "name": "stdout",
     "output_type": "stream",
     "text": [
      "Enter a prime no. P17\n",
      "Enter a prime no. Q19\n"
     ]
    }
   ],
   "source": [
    "p = int(input('Enter a prime no. P'))\n",
    "while  not isPrime(p):\n",
    "    p = int(input('Enter a prime no. P'))\n",
    "\n",
    "q = int(input('Enter a prime no. Q'))\n",
    "while  not isPrime(q):\n",
    "    q = int(input('Enter a prime no. Q'))\n",
    "    \n",
    "n = p*q\n",
    "phi = (p-1)*(q-1)\n",
    "\n",
    "while True:\n",
    "    e = randint(1,phi)\n",
    "    if(gcd(e,phi) == 1):\n",
    "        break\n",
    "\n",
    "d = -1\n",
    "for i in range(1,phi):\n",
    "    if (e*i)%phi == 1:\n",
    "        d = i\n",
    "        break\n",
    "\n",
    "public_key = (e , n)\n",
    "private_key = (d , n)"
   ]
  },
  {
   "cell_type": "code",
   "execution_count": 28,
   "id": "c9aefc79",
   "metadata": {},
   "outputs": [
    {
     "data": {
      "text/plain": [
       "126"
      ]
     },
     "execution_count": 28,
     "metadata": {},
     "output_type": "execute_result"
    }
   ],
   "source": [
    "def encryption(m , public_key):\n",
    "    e , n = public_key\n",
    "    c = (m**e)%n\n",
    "    return c\n",
    "\n",
    "c = encryption(ord('A') , public_key)\n",
    "c"
   ]
  },
  {
   "cell_type": "code",
   "execution_count": 29,
   "id": "ff6555f2",
   "metadata": {},
   "outputs": [
    {
     "data": {
      "text/plain": [
       "'A'"
      ]
     },
     "execution_count": 29,
     "metadata": {},
     "output_type": "execute_result"
    }
   ],
   "source": [
    "def decryption(ci , private_key):\n",
    "    d , n = private_key\n",
    "    plain = (ci**d)%n\n",
    "    return plain\n",
    "\n",
    "chr(decryption(c ,private_key ))"
   ]
  },
  {
   "cell_type": "code",
   "execution_count": 31,
   "id": "48016ea9",
   "metadata": {},
   "outputs": [
    {
     "name": "stdout",
     "output_type": "stream",
     "text": [
      "Enter a message: luluvendra\n"
     ]
    },
    {
     "data": {
      "text/plain": [
       "'a¢a¢\\x10©\\x9bÄĊĬ'"
      ]
     },
     "execution_count": 31,
     "metadata": {},
     "output_type": "execute_result"
    }
   ],
   "source": [
    "message = input('Enter a message: ')\n",
    "cipher = ''\n",
    "for cha in message:\n",
    "    cipher += chr(encryption(ord(cha) , public_key))\n",
    "\n",
    "cipher"
   ]
  },
  {
   "cell_type": "code",
   "execution_count": 32,
   "id": "e56130e6",
   "metadata": {},
   "outputs": [],
   "source": [
    "dec = ''\n",
    "for cha in cipher:\n",
    "    dec += chr(encryption(ord(cha) , private_key))"
   ]
  },
  {
   "cell_type": "code",
   "execution_count": 33,
   "id": "2a1987b3",
   "metadata": {},
   "outputs": [
    {
     "data": {
      "text/plain": [
       "'luluvendra'"
      ]
     },
     "execution_count": 33,
     "metadata": {},
     "output_type": "execute_result"
    }
   ],
   "source": [
    "dec"
   ]
  },
  {
   "cell_type": "code",
   "execution_count": null,
   "id": "f2c54351",
   "metadata": {},
   "outputs": [],
   "source": []
  }
 ],
 "metadata": {
  "kernelspec": {
   "display_name": "Python 3",
   "language": "python",
   "name": "python3"
  },
  "language_info": {
   "codemirror_mode": {
    "name": "ipython",
    "version": 3
   },
   "file_extension": ".py",
   "mimetype": "text/x-python",
   "name": "python",
   "nbconvert_exporter": "python",
   "pygments_lexer": "ipython3",
   "version": "3.8.3"
  }
 },
 "nbformat": 4,
 "nbformat_minor": 5
}
