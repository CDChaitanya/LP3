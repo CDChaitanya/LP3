{
 "cells": [
  {
   "cell_type": "code",
   "execution_count": 13,
   "id": "658c5a61",
   "metadata": {},
   "outputs": [],
   "source": [
    "from random import randint"
   ]
  },
  {
   "cell_type": "code",
   "execution_count": 14,
   "id": "bbd82fcb",
   "metadata": {},
   "outputs": [],
   "source": [
    "def addition(P1 , P2):\n",
    "    (x1 , y1) = P1\n",
    "    (x2 , y2) = P2\n",
    "    \n",
    "    u = 0\n",
    "    \n",
    "    # the line is tangent (cutting at 2 points) to curve\n",
    "    if((x1-x2)%p) == 0 and ((y1-y2)%p) == 0:\n",
    "        u = ((3 * (x1**2) + a) * (pow(2*y1 , p-2 , p)))%p\n",
    "    else:\n",
    "        u = ((y2-y1) * (pow(x2-x1 , p-2 , p)))%p\n",
    "    \n",
    "    x3 = (u * u - x1 - x2)%p\n",
    "    y3 = (u * x1 - u * x3 -y1)%p\n",
    "    \n",
    "    return (x3 , y3)"
   ]
  },
  {
   "cell_type": "code",
   "execution_count": 15,
   "id": "ec584137",
   "metadata": {},
   "outputs": [],
   "source": [
    "def multiply(k , P):\n",
    "    if(k == 1):\n",
    "        return P\n",
    "    \n",
    "    Q = P\n",
    "    while k != 1:\n",
    "        Q = addition(P , Q)\n",
    "        k -= 1\n",
    "    return Q"
   ]
  },
  {
   "cell_type": "code",
   "execution_count": 16,
   "id": "2b6973bb",
   "metadata": {},
   "outputs": [],
   "source": [
    "def encrypt(m , Q):\n",
    "    M = (ord(m) ,1)\n",
    "    k = randint(1,n-1)\n",
    "    \n",
    "    #c1 = kp\n",
    "    c1 = multiply(k , P)\n",
    "    \n",
    "    #c2 = kQ+M\n",
    "    c2 = multiply(k , Q)\n",
    "    c2 = (c2[0]+M[0] , c2[1]+M[1])\n",
    "    \n",
    "    return c1 , c2"
   ]
  },
  {
   "cell_type": "code",
   "execution_count": 17,
   "id": "e53b878c",
   "metadata": {},
   "outputs": [],
   "source": [
    "def decrypt(c1 , c2 , d):\n",
    "    #D = dc1\n",
    "    D = multiply(d , c1)\n",
    "    \n",
    "    #M = c2 - D\n",
    "    M = (c2[0] - D[0] , c2[1] - D[1])\n",
    "    \n",
    "    return chr(M[0])"
   ]
  },
  {
   "cell_type": "code",
   "execution_count": 18,
   "id": "32d95cf6",
   "metadata": {},
   "outputs": [
    {
     "name": "stdout",
     "output_type": "stream",
     "text": [
      "Enter a for elliptical curve: 2\n",
      "Enter b for curve: 2\n",
      "Enter p for curve: 17\n",
      "Enter x coordinate for generator: 5\n",
      "Enter y coordinate for generator: 1\n",
      "Enter n for curve: 19\n",
      "Public Key Q:  (13, 7)\n",
      "Private Key d:  8\n",
      "Enter Message : lulu\n",
      "Cipher Text C1:  [(0, 6), (16, 4), (13, 7), (7, 11)]\n",
      "Cipher Text C2:  [(113, 17), (124, 7), (108, 7), (120, 2)]\n",
      "Decrypted Text:  lulu\n"
     ]
    }
   ],
   "source": [
    "valid = False\n",
    "while valid == False:\n",
    "    a=int(input(\"Enter a for elliptical curve: \"))\n",
    "    b=int(input(\"Enter b for curve: \"))\n",
    "    p=int(input(\"Enter p for curve: \"))\n",
    "    \n",
    "    if((4*(a**3)) + (27*(b**2))) == 0:\n",
    "        continue\n",
    "        \n",
    "    Px=int(input(\"Enter x coordinate for generator: \"))\n",
    "    Py=int(input(\"Enter y coordinate for generator: \"))\n",
    "    \n",
    "    P = (Px, Py)\n",
    "    \n",
    "    n=int(input(\"Enter n for curve: \"))\n",
    "    valid=True\n",
    "\n",
    "d = randint(1 , n-1)\n",
    "Q = multiply(d , P)\n",
    "\n",
    "print(\"Public Key Q: \",Q) # this will be in co ordinate form\n",
    "print(\"Private Key d: \",d) # and this is the value\n",
    "\n",
    "c1_arr , c2_arr = [] ,[]\n",
    "message = input('Enter Message : ')\n",
    "\n",
    "for cha in message:\n",
    "    c1 , c2 = encrypt(cha , Q)\n",
    "    c1_arr.append(c1)\n",
    "    c2_arr.append(c2)\n",
    "\n",
    "print(\"Cipher Text C1: \",c1_arr)\n",
    "print(\"Cipher Text C2: \",c2_arr)\n",
    "\n",
    "decrypted_text = ''\n",
    "for c1 ,c2 in zip (c1_arr , c2_arr):\n",
    "    decrypted_text += decrypt(c1, c2, d)\n",
    "\n",
    "print(\"Decrypted Text: \",decrypted_text)"
   ]
  },
  {
   "cell_type": "code",
   "execution_count": null,
   "id": "00f3f40b",
   "metadata": {},
   "outputs": [],
   "source": []
  }
 ],
 "metadata": {
  "kernelspec": {
   "display_name": "Python 3",
   "language": "python",
   "name": "python3"
  },
  "language_info": {
   "codemirror_mode": {
    "name": "ipython",
    "version": 3
   },
   "file_extension": ".py",
   "mimetype": "text/x-python",
   "name": "python",
   "nbconvert_exporter": "python",
   "pygments_lexer": "ipython3",
   "version": "3.8.3"
  }
 },
 "nbformat": 4,
 "nbformat_minor": 5
}
