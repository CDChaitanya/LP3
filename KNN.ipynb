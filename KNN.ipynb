{
 "cells": [
  {
   "cell_type": "code",
   "execution_count": 1,
   "id": "820d98eb",
   "metadata": {},
   "outputs": [],
   "source": [
    "import math\n",
    "from statistics import mode"
   ]
  },
  {
   "cell_type": "code",
   "execution_count": 2,
   "id": "8f23f078",
   "metadata": {},
   "outputs": [],
   "source": [
    "def euclidean_distance(x1,y1,x2,y2):\n",
    "    return math.sqrt(((x1-x2) ** 2)  + ((y1-y2) ** 2))"
   ]
  },
  {
   "cell_type": "code",
   "execution_count": 3,
   "id": "bba0a832",
   "metadata": {},
   "outputs": [],
   "source": [
    "def knn(points, qx, qy, labels, k):\n",
    "    distances = []\n",
    "    idx = 0\n",
    "    \n",
    "    for point in points:\n",
    "        x , y = point[0] , point[1]\n",
    "        distance = euclidean_distance(x,y,qx,qy)\n",
    "        distances.append((distance , idx))\n",
    "        idx += 1\n",
    "    \n",
    "    distances.sort()\n",
    "    k_distances = []\n",
    "    k_distances = distances[:k]\n",
    "    print(\"K-nearest Neighbours with (dist,idx):\",k_distances)\n",
    "    \n",
    "    k_labels = []\n",
    "    for dist , idx in k_distances:\n",
    "        k_labels.append(labels[idx])\n",
    "        \n",
    "    print(\"Labels of KNNs:\",k_labels)\n",
    "    return k_distances , k_labels"
   ]
  },
  {
   "cell_type": "code",
   "execution_count": 4,
   "id": "e09405dd",
   "metadata": {},
   "outputs": [],
   "source": [
    "def knn_locally_weighted(points, qx, qy, labels, k):\n",
    "    k_distances , k_labels = knn(points, qx, qy, labels, k)\n",
    "    \n",
    "    final_label = mode(k_labels)\n",
    "    print(\"Final Label:\",final_label)"
   ]
  },
  {
   "cell_type": "code",
   "execution_count": 5,
   "id": "da006b44",
   "metadata": {},
   "outputs": [],
   "source": [
    "def knn_distance_weighted(points, qx, qy, labels, k):\n",
    "    k_distances , k_labels = knn(points, qx, qy, labels, k)\n",
    "    \n",
    "    k_weights = []\n",
    "    for dist , idx in k_distances:\n",
    "        wt = 1/dist\n",
    "        k_weights.append((wt , idx))\n",
    "    print('K-Weights: ', k_weights)\n",
    "    \n",
    "    zero_weight = 0\n",
    "    one_weight = 0\n",
    "    \n",
    "    for i in range(len(k_labels)):\n",
    "        if k_labels[i] == 0:\n",
    "            zero_weight += k_weights[i][0]\n",
    "        else:\n",
    "            one_weight += k_weights[i][0]\n",
    "        print(one_weight)\n",
    "        print(zero_weight)\n",
    "        print(labels[i])\n",
    "    \n",
    "    final_label = 0\n",
    "    \n",
    "    print('one ',one_weight)\n",
    "    print('zero ',zero_weight)\n",
    "    \n",
    "    if one_weight >= zero_weight:\n",
    "        final_label = 1\n",
    "    else:\n",
    "        final_label = 0\n",
    "    print(\"Final Label:\",final_label)"
   ]
  },
  {
   "cell_type": "code",
   "execution_count": 6,
   "id": "ed156729",
   "metadata": {},
   "outputs": [
    {
     "name": "stdout",
     "output_type": "stream",
     "text": [
      "KNN\n",
      "K-nearest Neighbours with (dist,idx): [(2.0, 2), (2.0, 3), (2.8284271247461903, 5)]\n",
      "Labels of KNNs: [1, 1, 0]\n",
      "Final Label: 1\n",
      "KNN-Distance Weighted\n",
      "K-nearest Neighbours with (dist,idx): [(2.0, 2), (2.0, 3), (2.8284271247461903, 5)]\n",
      "Labels of KNNs: [1, 1, 0]\n",
      "K-Weights:  [(0.5, 2), (0.5, 3), (0.35355339059327373, 5)]\n",
      "0.5\n",
      "0\n",
      "1\n",
      "1.0\n",
      "0\n",
      "1\n",
      "1.0\n",
      "0.35355339059327373\n",
      "1\n",
      "one  1.0\n",
      "zero  0.35355339059327373\n",
      "Final Label: 1\n"
     ]
    }
   ],
   "source": [
    "datapoints=[\n",
    "    (4,2),\n",
    "    (2,4),\n",
    "    (6,4),\n",
    "    (4,6),\n",
    "    (6,2),\n",
    "    (4,4)\n",
    "]\n",
    "\n",
    "labels=[1,1,1,1,0,0]\n",
    "\n",
    "qx=6\n",
    "qy=6\n",
    "\n",
    "#pass k=3\n",
    "\n",
    "print('KNN')\n",
    "knn_locally_weighted(datapoints,qx,qy,labels,3)\n",
    "\n",
    "print('KNN-Distance Weighted')\n",
    "knn_distance_weighted(datapoints,qx,qy,labels,3)"
   ]
  },
  {
   "cell_type": "code",
   "execution_count": null,
   "id": "f66b60f8",
   "metadata": {},
   "outputs": [],
   "source": []
  },
  {
   "cell_type": "code",
   "execution_count": null,
   "id": "4bdc1fdb",
   "metadata": {},
   "outputs": [],
   "source": []
  }
 ],
 "metadata": {
  "kernelspec": {
   "display_name": "Python 3",
   "language": "python",
   "name": "python3"
  },
  "language_info": {
   "codemirror_mode": {
    "name": "ipython",
    "version": 3
   },
   "file_extension": ".py",
   "mimetype": "text/x-python",
   "name": "python",
   "nbconvert_exporter": "python",
   "pygments_lexer": "ipython3",
   "version": "3.8.3"
  }
 },
 "nbformat": 4,
 "nbformat_minor": 5
}
