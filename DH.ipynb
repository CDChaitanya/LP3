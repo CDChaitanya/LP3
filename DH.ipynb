{
 "cells": [
  {
   "cell_type": "code",
   "execution_count": 1,
   "id": "65ada4f8",
   "metadata": {},
   "outputs": [],
   "source": [
    "def isPrime(n):\n",
    "    if( n == 1):\n",
    "        return False\n",
    "    if( n == 2 or n == 3):\n",
    "        return True\n",
    "    if(n%2 == 0 or n%3 == 0):\n",
    "        return False\n",
    "    i = 5\n",
    "    while (i*i) <= n:\n",
    "        if((n%i) == 0 or (n%(i+2)) == 0):\n",
    "            return False\n",
    "        i+=6\n",
    "    return True"
   ]
  },
  {
   "cell_type": "code",
   "execution_count": 2,
   "id": "8726e843",
   "metadata": {},
   "outputs": [],
   "source": [
    "def get_primitive_root(n):\n",
    "\n",
    "    flag=False\n",
    "\n",
    "    #r goes from 1 to n-1\n",
    "    for r in range(1,n):\n",
    "        \n",
    "        #create a empty dict for every 'r' iteration\n",
    "        values={}\n",
    "\n",
    "        #x goes from 0 to n-2\n",
    "        for x in range(0,n-1):\n",
    "            \n",
    "            #taking (r^x)%n\n",
    "            val=pow(r,x,n)\n",
    "\n",
    "            #if that val is already present in dictionary values,\n",
    "            #   check for next r, break inner loop\n",
    "            if val in values.keys():\n",
    "                break\n",
    "\n",
    "            #otherwise add it to dictionary\n",
    "            values[val]=True\n",
    "   \n",
    "            #if x has reached n-2, make flag True\n",
    "            if x==n-2:\n",
    "                flag=True\n",
    "        \n",
    "        #if flag is True, break we have found n\n",
    "        if flag==True:\n",
    "            return r\n",
    "\n",
    "    return None"
   ]
  },
  {
   "cell_type": "code",
   "execution_count": 3,
   "id": "7bcd8967",
   "metadata": {},
   "outputs": [],
   "source": [
    "from random import randint"
   ]
  },
  {
   "cell_type": "code",
   "execution_count": 5,
   "id": "9c39d976",
   "metadata": {},
   "outputs": [
    {
     "name": "stdout",
     "output_type": "stream",
     "text": [
      "Enter a Prime no for A: 17\n",
      "Private Key of A:  5\n",
      "Public Key of A:  5\n",
      "Private Key of B:  5\n",
      "Public Key of B:  5\n",
      "Secret Key of A:  14\n",
      "Secret Key of B:  14\n",
      "True\n"
     ]
    }
   ],
   "source": [
    "p = int(input('Enter a Prime no for A: '))\n",
    "while  not isPrime(p):\n",
    "    p = int(input('Enter a Prime no for A: '))\n",
    "\n",
    "q = get_primitive_root(p)\n",
    "#q = int(input('Enter a Prime no for B: '))\n",
    "#while  not isPrime(q):\n",
    "#    q = int(input('Enter a Prime no for B: '))\n",
    "    \n",
    "# A and B can be taken as user input or random\n",
    "a = randint(1,10)\n",
    "x = int(pow(q,a,p))\n",
    "print('Private Key of A: ',a)\n",
    "print('Public Key of A: ',x)\n",
    "\n",
    "b = randint(1,10)\n",
    "y = int(pow(q,b,p))\n",
    "print('Private Key of B: ',b)\n",
    "print('Public Key of B: ',y)\n",
    "\n",
    "ka = int(pow(y,a,p))\n",
    "print('Secret Key of A: ',ka)\n",
    "\n",
    "kb = int(pow(x,b,p))\n",
    "print('Secret Key of B: ',kb)\n",
    "\n",
    "print(ka == kb)"
   ]
  },
  {
   "cell_type": "code",
   "execution_count": null,
   "id": "11dad6e6",
   "metadata": {},
   "outputs": [],
   "source": []
  }
 ],
 "metadata": {
  "kernelspec": {
   "display_name": "Python 3",
   "language": "python",
   "name": "python3"
  },
  "language_info": {
   "codemirror_mode": {
    "name": "ipython",
    "version": 3
   },
   "file_extension": ".py",
   "mimetype": "text/x-python",
   "name": "python",
   "nbconvert_exporter": "python",
   "pygments_lexer": "ipython3",
   "version": "3.8.3"
  }
 },
 "nbformat": 4,
 "nbformat_minor": 5
}
