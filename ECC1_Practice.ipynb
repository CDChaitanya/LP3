{
 "cells": [
  {
   "cell_type": "code",
   "execution_count": 1,
   "id": "44a8f58c",
   "metadata": {},
   "outputs": [],
   "source": [
    "import math\n",
    "from random import randint"
   ]
  },
  {
   "cell_type": "code",
   "execution_count": 2,
   "id": "1d429e14",
   "metadata": {},
   "outputs": [],
   "source": [
    "def getGenerator(a , b):\n",
    "    x = 1\n",
    "    while True:\n",
    "        rhs = ((x**3) + (a*x) + b)%p\n",
    "        y = int(math.sqrt(rhs))\n",
    "        lhs = (y**2)%p\n",
    "        if lhs == rhs:\n",
    "            return [x%p,y%p]\n",
    "        else:\n",
    "            x += 1\n",
    "    return None"
   ]
  },
  {
   "cell_type": "code",
   "execution_count": 3,
   "id": "55b37a5c",
   "metadata": {},
   "outputs": [],
   "source": [
    "def addition(P1 , P2):\n",
    "    (x1,y1) = P1\n",
    "    (x2,y2) = P2\n",
    "    u = 0\n",
    "    \n",
    "    if((x1-x2)%p == 0 and (y1-y2)%p == 0):\n",
    "        u = ((3*(x1**2) + a) *  (pow(2*y1 , p-2 , p)))%p\n",
    "    else:\n",
    "        u = ((y2-y1) * (pow(x2-x1 , p-2 , p)))%p\n",
    "    \n",
    "    x3 = (u * u - x1 - x2)%p\n",
    "    y3 = (u*x1 - u *x3 - y1)%p\n",
    "    \n",
    "    return (x3, y3)"
   ]
  },
  {
   "cell_type": "code",
   "execution_count": 4,
   "id": "0072837f",
   "metadata": {},
   "outputs": [],
   "source": [
    "def multiply(k , P):\n",
    "    if( k == 1):\n",
    "        return P\n",
    "    Q=P\n",
    "    while(k != 1):\n",
    "        Q = addition(P ,Q)\n",
    "        k -= 1\n",
    "    return Q"
   ]
  },
  {
   "cell_type": "code",
   "execution_count": 5,
   "id": "e05bf42c",
   "metadata": {},
   "outputs": [],
   "source": [
    "def encryption(m , Q):\n",
    "    M = (ord(m) , 1)\n",
    "    k = randint(1 , n-1)\n",
    "    \n",
    "    c1 = multiply(k , P)\n",
    "    c2 = multiply(k , Q)\n",
    "    c2 = [c2[0]+M[0] , c2[1]+M[1]]\n",
    "    \n",
    "    return c1, c2"
   ]
  },
  {
   "cell_type": "code",
   "execution_count": 6,
   "id": "d4404239",
   "metadata": {},
   "outputs": [],
   "source": [
    "def decryption(c1, c2 , d):\n",
    "    D = multiply(d , c1)\n",
    "    M = [c2[0]-D[0] , c2[1]-D[1]]\n",
    "    return chr(M[0])"
   ]
  },
  {
   "cell_type": "code",
   "execution_count": 7,
   "id": "0980b00a",
   "metadata": {},
   "outputs": [
    {
     "name": "stdout",
     "output_type": "stream",
     "text": [
      "Enter a : 2\n",
      "Enter b : 2\n",
      "Enter p : 17\n",
      "Generator :  [3, 1]\n",
      "Enter n : 19\n",
      "Private Key:  9\n",
      "Public Key:  (6, 14)\n",
      "Enter a  message : luluvendra\n",
      "Cipher Text:  [(7, 6), (6, 3), (5, 16), [3, 1], (0, 11), (10, 6), (6, 3), (13, 10), (6, 14), (9, 1)]\n",
      "Cipher Text:  [[117, 17], [122, 17], [115, 12], [123, 15], [134, 5], [114, 8], [115, 17], [103, 2], [119, 2], [97, 12]]\n"
     ]
    },
    {
     "data": {
      "text/plain": [
       "'luluvendra'"
      ]
     },
     "execution_count": 7,
     "metadata": {},
     "output_type": "execute_result"
    }
   ],
   "source": [
    "valid = False\n",
    "while valid == False:\n",
    "    a = int(input('Enter a : '))\n",
    "    b = int(input('Enter b : '))\n",
    "    p = int(input('Enter p : '))\n",
    "    \n",
    "    if((4*(a**3)) + (27*(b**2))) == 0:\n",
    "        continue\n",
    "    \n",
    "    P = getGenerator(a , b)\n",
    "    print('Generator : ' , P)\n",
    "    n = int(input('Enter n : '))\n",
    "    valid = True\n",
    "\n",
    "d = randint(1 , n-1)\n",
    "Q = multiply(d , P)\n",
    "\n",
    "print('Private Key: ' , d)\n",
    "print('Public Key: ' , Q)\n",
    "\n",
    "message = input('Enter a  message : ')\n",
    "c1_arr , c2_arr = [] , []\n",
    "for cha in message:\n",
    "    c1, c2 = encryption(cha , Q)\n",
    "    c1_arr.append(c1)\n",
    "    c2_arr.append(c2)\n",
    "    \n",
    "print('Cipher Text: ' , c1_arr)\n",
    "print('Cipher Text: ' , c2_arr)\n",
    "\n",
    "decrypted_text = ''\n",
    "for c1 , c2 in zip(c1_arr , c2_arr):\n",
    "    decrypted_text += decryption(c1, c2 , d)\n",
    "\n",
    "decrypted_text"
   ]
  },
  {
   "cell_type": "code",
   "execution_count": null,
   "id": "4ec3165d",
   "metadata": {},
   "outputs": [],
   "source": []
  }
 ],
 "metadata": {
  "kernelspec": {
   "display_name": "Python 3",
   "language": "python",
   "name": "python3"
  },
  "language_info": {
   "codemirror_mode": {
    "name": "ipython",
    "version": 3
   },
   "file_extension": ".py",
   "mimetype": "text/x-python",
   "name": "python",
   "nbconvert_exporter": "python",
   "pygments_lexer": "ipython3",
   "version": "3.8.3"
  }
 },
 "nbformat": 4,
 "nbformat_minor": 5
}
