{
 "cells": [
  {
   "cell_type": "code",
   "execution_count": 1,
   "id": "2d55e433",
   "metadata": {},
   "outputs": [],
   "source": [
    "from random import randint"
   ]
  },
  {
   "cell_type": "code",
   "execution_count": 2,
   "id": "4d0f4de0",
   "metadata": {},
   "outputs": [],
   "source": [
    "def isPrime(n):\n",
    "    if(n == 1):\n",
    "        return False\n",
    "    if( n== 2 or n== 3):\n",
    "        return True\n",
    "    if(n%2 == 0 or n%3 == 0):\n",
    "        return False\n",
    "    i = 5\n",
    "    while i*i <= n:\n",
    "        if(n%i == 0 or (n%(i+2)) == 0):\n",
    "            return False\n",
    "        i += 6\n",
    "    return True"
   ]
  },
  {
   "cell_type": "code",
   "execution_count": 3,
   "id": "98581ef8",
   "metadata": {},
   "outputs": [],
   "source": [
    "def getPrimitiveRoot(n):\n",
    "    flag = False\n",
    "    for r in range(1,n):\n",
    "        values = {}\n",
    "        for x in range(1,n-1):\n",
    "            val = int(pow(r,n,x))\n",
    "            if val in values.keys():\n",
    "                continue\n",
    "            \n",
    "            values[val] = True\n",
    "            if(x == n-2):\n",
    "                flag = True\n",
    "        if(flag == True):\n",
    "            return r\n",
    "    \n",
    "    return None"
   ]
  },
  {
   "cell_type": "code",
   "execution_count": 6,
   "id": "09c646fb",
   "metadata": {},
   "outputs": [
    {
     "name": "stdout",
     "output_type": "stream",
     "text": [
      "Enter value of P17\n",
      "Enter value of A5\n",
      "Private key of A:  5\n",
      "Public key of A:  12\n",
      "Enter value of B4\n",
      "Private key of B:  4\n",
      "Public key of B:  13\n",
      "True\n",
      "Secrete key of A:  13\n",
      "Secrete key of B:  13\n"
     ]
    }
   ],
   "source": [
    "p = int(input('Enter value of P'))\n",
    "while  not isPrime(p):\n",
    "    p = int(input('Enter value of P'))\n",
    "    \n",
    "q = getPrimitiveRoot(p)\n",
    "\n",
    "a = int(input('Enter value of A'))\n",
    "x = int(pow(q,a,p))\n",
    "print('Private key of A: ', a)\n",
    "print('Public key of A: ', x)\n",
    "\n",
    "\n",
    "b = int(input('Enter value of B'))\n",
    "y = int(pow(q,b,p))\n",
    "\n",
    "print('Private key of B: ', b)\n",
    "print('Public key of B: ', y)\n",
    "\n",
    "\n",
    "ka = int(pow(y,a,p))\n",
    "kb = int(pow(x,b,p))\n",
    "\n",
    "print(ka == kb)\n",
    "print('Secrete key of A: ', ka)\n",
    "print('Secrete key of B: ', kb)"
   ]
  },
  {
   "cell_type": "code",
   "execution_count": null,
   "id": "0e5a5658",
   "metadata": {},
   "outputs": [],
   "source": [
    "\n"
   ]
  }
 ],
 "metadata": {
  "kernelspec": {
   "display_name": "Python 3",
   "language": "python",
   "name": "python3"
  },
  "language_info": {
   "codemirror_mode": {
    "name": "ipython",
    "version": 3
   },
   "file_extension": ".py",
   "mimetype": "text/x-python",
   "name": "python",
   "nbconvert_exporter": "python",
   "pygments_lexer": "ipython3",
   "version": "3.8.3"
  }
 },
 "nbformat": 4,
 "nbformat_minor": 5
}
